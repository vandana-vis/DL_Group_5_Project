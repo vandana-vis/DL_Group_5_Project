{
  "nbformat": 4,
  "nbformat_minor": 0,
  "metadata": {
    "colab": {
      "name": "Final_Model_LowHeadDam.ipynb",
      "provenance": [],
      "collapsed_sections": []
    },
    "kernelspec": {
      "name": "python3",
      "display_name": "Python 3"
    },
    "accelerator": "GPU"
  },
  "cells": [
    {
      "cell_type": "markdown",
      "metadata": {
        "id": "GH9WjU6cqJux"
      },
      "source": [
        "Low head Dam detection from Satellite images"
      ]
    },
    {
      "cell_type": "markdown",
      "metadata": {
        "id": "uJv5Qa4KyqJ-"
      },
      "source": [
        "Importing required packages"
      ]
    },
    {
      "cell_type": "code",
      "metadata": {
        "id": "SGgDkgPoQkKQ"
      },
      "source": [
        "import numpy as np\n",
        "from sklearn.utils.class_weight import compute_class_weight\n",
        "from sklearn.metrics import accuracy_score\n",
        "from sklearn.datasets import fetch_lfw_people\n",
        "from sklearn.decomposition import PCA\n",
        "from sklearn.model_selection import train_test_split\n",
        "import tensorflow as tf\n",
        "from tensorflow.keras.models import Model\n",
        "from tensorflow.keras.layers import Input, Dense, Activation, Conv2D, MaxPool2D, AveragePooling2D, Flatten, Dropout, BatchNormalization\n",
        "from tensorflow.keras.optimizers import SGD, RMSprop, Adam\n",
        "import matplotlib.pyplot as plt\n",
        "from tensorflow.keras.callbacks import TensorBoard, ModelCheckpoint\n",
        "\n",
        "from keras.models import Model, Sequential\n",
        "from keras.layers import Input, Flatten, Dense, BatchNormalization, Conv2D, MaxPool2D, Activation, MaxPooling2D, Dropout,AveragePooling2D, Flatten\n",
        "from tensorflow.keras.optimizers import SGD, RMSprop, Adam\n",
        "import os"
      ],
      "execution_count": null,
      "outputs": []
    },
    {
      "cell_type": "markdown",
      "metadata": {
        "id": "6HdV59han2s5"
      },
      "source": [
        "Mounting drive"
      ]
    },
    {
      "cell_type": "code",
      "metadata": {
        "colab": {
          "base_uri": "https://localhost:8080/"
        },
        "id": "V0f2dVjHZ1ZA",
        "outputId": "080213fc-2015-4d6d-908b-4b690127f508"
      },
      "source": [
        "from google.colab import drive\n",
        "drive.mount('/content/drive')"
      ],
      "execution_count": null,
      "outputs": [
        {
          "output_type": "stream",
          "text": [
            "Mounted at /content/drive\n"
          ],
          "name": "stdout"
        }
      ]
    },
    {
      "cell_type": "markdown",
      "metadata": {
        "id": "1Fl1CGHTn4tK"
      },
      "source": [
        "Defining directories"
      ]
    },
    {
      "cell_type": "code",
      "metadata": {
        "id": "QP0H6BSHs0nG"
      },
      "source": [
        "train_dam_dir='/content/drive/My Drive/data/train/Dams/' #training dir with dam images\n",
        "train_nodam_dir='/content/drive/My Drive/data/train/NoDams/'  # training dir with no dam images\n",
        "test_dam_dir='/content/drive/My Drive/data/test/Dams/'  #test dir with dam images\n",
        "test_nodam_dir='/content/drive/My Drive/data/test/NoDams/'    #test dir with no dam images\n"
      ],
      "execution_count": null,
      "outputs": []
    },
    {
      "cell_type": "code",
      "metadata": {
        "colab": {
          "base_uri": "https://localhost:8080/"
        },
        "id": "88O406uns0sc",
        "outputId": "f0810b33-0343-41f8-cfb7-e3d93cb6c01b"
      },
      "source": [
        "print(\"The number of images with dams in the training set labelled 'yes':\", len(os.listdir(train_dam_dir)))\n",
        "print(\"The number of images with no dams in the training set labelled 'no':\", len(os.listdir(train_nodam_dir)))\n",
        "print(\"The number of images with dams test set labelled 'yes':\", len(os.listdir(test_dam_dir)))\n",
        "print(\"The number of images with no dams test set labelled 'no':\", len(os.listdir(test_nodam_dir)))"
      ],
      "execution_count": null,
      "outputs": [
        {
          "output_type": "stream",
          "text": [
            "The number of images with dams in the training set labelled 'yes': 130\n",
            "The number of images with no dams in the training set labelled 'no': 143\n",
            "The number of images with dams test set labelled 'yes': 32\n",
            "The number of images with no dams test set labelled 'no': 36\n"
          ],
          "name": "stdout"
        }
      ]
    },
    {
      "cell_type": "markdown",
      "metadata": {
        "id": "eGsM1E_hn-u_"
      },
      "source": [
        "Image data generator for train set - rescale, shear, zoom, horizontal and vertical flips"
      ]
    },
    {
      "cell_type": "code",
      "metadata": {
        "id": "Hi0W2FX3Q8Hu"
      },
      "source": [
        "train_datagen = tf.keras.preprocessing.image.ImageDataGenerator(rescale=1. / 255,\n",
        "                                             shear_range=0.2,\n",
        "                                              zoom_range=0.2,\n",
        "                                              horizontal_flip=True,\n",
        "                                              vertical_flip = True, validation_split = 0.2)"
      ],
      "execution_count": null,
      "outputs": []
    },
    {
      "cell_type": "markdown",
      "metadata": {
        "id": "Sq8a8nFVoMSL"
      },
      "source": [
        "Image data generator for test set - Rescale"
      ]
    },
    {
      "cell_type": "code",
      "metadata": {
        "id": "W7NguaCTvQWI"
      },
      "source": [
        "test_datagen = tf.keras.preprocessing.image.ImageDataGenerator(rescale=1. / 255,)"
      ],
      "execution_count": null,
      "outputs": []
    },
    {
      "cell_type": "markdown",
      "metadata": {
        "id": "dwd53W3qoayB"
      },
      "source": [
        "Loading training images from directory"
      ]
    },
    {
      "cell_type": "code",
      "metadata": {
        "colab": {
          "base_uri": "https://localhost:8080/"
        },
        "id": "vD2wr5TXQ8Kh",
        "outputId": "547c3459-74d3-459e-80ac-ae5953991cd3"
      },
      "source": [
        "train_x = train_datagen.flow_from_directory('/content/drive/My Drive/data/train',\n",
        "                                            class_mode = 'binary', \n",
        "                                            batch_size = 32,\n",
        "                                            target_size = (500,500))"
      ],
      "execution_count": null,
      "outputs": [
        {
          "output_type": "stream",
          "text": [
            "Found 273 images belonging to 2 classes.\n"
          ],
          "name": "stdout"
        }
      ]
    },
    {
      "cell_type": "markdown",
      "metadata": {
        "id": "5qys0WAkogmt"
      },
      "source": [
        "Loading testing images from directory"
      ]
    },
    {
      "cell_type": "code",
      "metadata": {
        "colab": {
          "base_uri": "https://localhost:8080/"
        },
        "id": "PsVlwZHNo00h",
        "outputId": "ccd9f640-96d8-4740-a1e3-abf78eea1822"
      },
      "source": [
        "test_x = test_datagen.flow_from_directory('/content/drive/My Drive/data/test', class_mode='binary',\n",
        "                                            batch_size=32, shuffle=False,\n",
        "                                            target_size = (500,500))"
      ],
      "execution_count": null,
      "outputs": [
        {
          "output_type": "stream",
          "text": [
            "Found 68 images belonging to 2 classes.\n"
          ],
          "name": "stdout"
        }
      ]
    },
    {
      "cell_type": "markdown",
      "metadata": {
        "id": "s81jkwtMcjnI"
      },
      "source": [
        "Label representation"
      ]
    },
    {
      "cell_type": "code",
      "metadata": {
        "colab": {
          "base_uri": "https://localhost:8080/"
        },
        "id": "cVnFIaOG5Psz",
        "outputId": "86de8fdc-b314-40e9-a73c-0e59b709f824"
      },
      "source": [
        "test_x.class_indices"
      ],
      "execution_count": null,
      "outputs": [
        {
          "output_type": "execute_result",
          "data": {
            "text/plain": [
              "{'Dams': 0, 'NoDams': 1}"
            ]
          },
          "metadata": {
            "tags": []
          },
          "execution_count": 38
        }
      ]
    },
    {
      "cell_type": "markdown",
      "metadata": {
        "id": "ePfeUcBmooXA"
      },
      "source": [
        "Class weights"
      ]
    },
    {
      "cell_type": "code",
      "metadata": {
        "id": "SZkExen2428E"
      },
      "source": [
        "from sklearn.utils import class_weight\n",
        "class_weights = class_weight.compute_class_weight(\n",
        "               'balanced',\n",
        "                np.unique(train_x.classes), \n",
        "                train_x.classes)"
      ],
      "execution_count": null,
      "outputs": []
    },
    {
      "cell_type": "code",
      "metadata": {
        "id": "sSFnvVBU5DEo"
      },
      "source": [
        "class_weights = dict(enumerate(class_weights))"
      ],
      "execution_count": null,
      "outputs": []
    },
    {
      "cell_type": "code",
      "metadata": {
        "colab": {
          "base_uri": "https://localhost:8080/"
        },
        "id": "OsJZSqrQVjd6",
        "outputId": "e1aff9e9-f8c0-4872-a439-b5805ad1d77c"
      },
      "source": [
        "class_weights"
      ],
      "execution_count": null,
      "outputs": [
        {
          "output_type": "execute_result",
          "data": {
            "text/plain": [
              "{0: 1.05, 1: 0.9545454545454546}"
            ]
          },
          "metadata": {
            "tags": []
          },
          "execution_count": 12
        }
      ]
    },
    {
      "cell_type": "code",
      "metadata": {
        "colab": {
          "base_uri": "https://localhost:8080/"
        },
        "id": "KAHw4TkoATsk",
        "outputId": "747882bd-2f79-479f-c306-803e1ff781ed"
      },
      "source": [
        "class_weights_test = class_weight.compute_class_weight(\n",
        "               'balanced',\n",
        "                np.unique(test_x.classes), \n",
        "                test_x.classes)\n",
        "class_weights_test = dict(enumerate(class_weights_test))\n",
        "class_weights_test"
      ],
      "execution_count": null,
      "outputs": [
        {
          "output_type": "execute_result",
          "data": {
            "text/plain": [
              "{0: 1.0625, 1: 0.9444444444444444}"
            ]
          },
          "metadata": {
            "tags": []
          },
          "execution_count": 13
        }
      ]
    },
    {
      "cell_type": "markdown",
      "metadata": {
        "id": "0K391nDJorD_"
      },
      "source": [
        "Defining model"
      ]
    },
    {
      "cell_type": "code",
      "metadata": {
        "id": "FbeTuiAgQ8Nh"
      },
      "source": [
        "model3 = Sequential()\n",
        "model3.add(Conv2D(32, (3, 3), activation='relu', input_shape=(500, 500, 3), padding=\"valid\"))\n",
        "model3.add(MaxPooling2D(pool_size=(2, 2)))\n",
        "model3.add(Conv2D(64, (3, 3), activation='relu', padding='valid'))\n",
        "model3.add(MaxPooling2D(pool_size=(2, 2)))\n",
        "model3.add(Dropout(0.1))\n",
        "model3.add(Conv2D(128, (3, 3), activation='relu', padding='valid'))\n",
        "model3.add(MaxPooling2D(pool_size=(2, 2)))\n",
        "model3.add(Dropout(0.1))\n",
        "model3.add(Conv2D(128, (3, 3), activation='relu', padding='valid'))\n",
        "model3.add(MaxPooling2D(pool_size=(2, 2)))\n",
        "model3.add(Conv2D(256, (3, 3), activation='relu', padding='valid'))\n",
        "model3.add(MaxPooling2D(pool_size=(2, 2)))\n",
        "model3.add(Dropout(0.1))\n",
        "model3.add(Conv2D(512, (2, 2), activation='relu', padding='valid'))\n",
        "model3.add(MaxPooling2D(pool_size=(2, 2)))\n",
        "model3.add(Dropout(0.1))\n",
        "model3.add(Conv2D(512, (2, 2), activation='relu', padding='valid'))\n",
        "model3.add(MaxPooling2D(pool_size=(2, 2)))\n",
        "model3.add(Dropout(0.1))\n",
        "model3.add(Flatten()) # Flattening the 2D arrays for fully connected layers\n",
        "model3.add(Dense(32, activation=tf.nn.relu))\n",
        "model3.add(Dropout(0.2))\n",
        "model3.add(Dense(64, activation=tf.nn.relu))\n",
        "model3.add(Dropout(0.2))\n",
        "model3.add(BatchNormalization())\n",
        "model3.add(Dense(128, activation=tf.nn.relu))\n",
        "model3.add(Dropout(0.2))\n",
        "model3.add(Dense(256, activation=tf.nn.relu))\n",
        "model3.add(Dropout(0.2))\n",
        "model3.add(Dense(1,activation=tf.nn.sigmoid))"
      ],
      "execution_count": null,
      "outputs": []
    },
    {
      "cell_type": "code",
      "metadata": {
        "colab": {
          "base_uri": "https://localhost:8080/"
        },
        "id": "nHcq4Px2_sCd",
        "outputId": "b10f233d-4f1d-41a8-9c80-b926a63c6cd0"
      },
      "source": [
        "model3.summary()"
      ],
      "execution_count": null,
      "outputs": [
        {
          "output_type": "stream",
          "text": [
            "Model: \"sequential_1\"\n",
            "_________________________________________________________________\n",
            "Layer (type)                 Output Shape              Param #   \n",
            "=================================================================\n",
            "conv2d_7 (Conv2D)            (None, 498, 498, 32)      896       \n",
            "_________________________________________________________________\n",
            "max_pooling2d_7 (MaxPooling2 (None, 249, 249, 32)      0         \n",
            "_________________________________________________________________\n",
            "conv2d_8 (Conv2D)            (None, 247, 247, 64)      18496     \n",
            "_________________________________________________________________\n",
            "max_pooling2d_8 (MaxPooling2 (None, 123, 123, 64)      0         \n",
            "_________________________________________________________________\n",
            "dropout_9 (Dropout)          (None, 123, 123, 64)      0         \n",
            "_________________________________________________________________\n",
            "conv2d_9 (Conv2D)            (None, 121, 121, 128)     73856     \n",
            "_________________________________________________________________\n",
            "max_pooling2d_9 (MaxPooling2 (None, 60, 60, 128)       0         \n",
            "_________________________________________________________________\n",
            "dropout_10 (Dropout)         (None, 60, 60, 128)       0         \n",
            "_________________________________________________________________\n",
            "conv2d_10 (Conv2D)           (None, 58, 58, 128)       147584    \n",
            "_________________________________________________________________\n",
            "max_pooling2d_10 (MaxPooling (None, 29, 29, 128)       0         \n",
            "_________________________________________________________________\n",
            "conv2d_11 (Conv2D)           (None, 27, 27, 256)       295168    \n",
            "_________________________________________________________________\n",
            "max_pooling2d_11 (MaxPooling (None, 13, 13, 256)       0         \n",
            "_________________________________________________________________\n",
            "dropout_11 (Dropout)         (None, 13, 13, 256)       0         \n",
            "_________________________________________________________________\n",
            "conv2d_12 (Conv2D)           (None, 12, 12, 512)       524800    \n",
            "_________________________________________________________________\n",
            "max_pooling2d_12 (MaxPooling (None, 6, 6, 512)         0         \n",
            "_________________________________________________________________\n",
            "dropout_12 (Dropout)         (None, 6, 6, 512)         0         \n",
            "_________________________________________________________________\n",
            "conv2d_13 (Conv2D)           (None, 5, 5, 512)         1049088   \n",
            "_________________________________________________________________\n",
            "max_pooling2d_13 (MaxPooling (None, 2, 2, 512)         0         \n",
            "_________________________________________________________________\n",
            "dropout_13 (Dropout)         (None, 2, 2, 512)         0         \n",
            "_________________________________________________________________\n",
            "flatten_1 (Flatten)          (None, 2048)              0         \n",
            "_________________________________________________________________\n",
            "dense_5 (Dense)              (None, 32)                65568     \n",
            "_________________________________________________________________\n",
            "dropout_14 (Dropout)         (None, 32)                0         \n",
            "_________________________________________________________________\n",
            "dense_6 (Dense)              (None, 64)                2112      \n",
            "_________________________________________________________________\n",
            "dropout_15 (Dropout)         (None, 64)                0         \n",
            "_________________________________________________________________\n",
            "batch_normalization_1 (Batch (None, 64)                256       \n",
            "_________________________________________________________________\n",
            "dense_7 (Dense)              (None, 128)               8320      \n",
            "_________________________________________________________________\n",
            "dropout_16 (Dropout)         (None, 128)               0         \n",
            "_________________________________________________________________\n",
            "dense_8 (Dense)              (None, 256)               33024     \n",
            "_________________________________________________________________\n",
            "dropout_17 (Dropout)         (None, 256)               0         \n",
            "_________________________________________________________________\n",
            "dense_9 (Dense)              (None, 1)                 257       \n",
            "=================================================================\n",
            "Total params: 2,219,425\n",
            "Trainable params: 2,219,297\n",
            "Non-trainable params: 128\n",
            "_________________________________________________________________\n"
          ],
          "name": "stdout"
        }
      ]
    },
    {
      "cell_type": "markdown",
      "metadata": {
        "id": "IEKcAKmdouDB"
      },
      "source": [
        "Defining evaluation metrics"
      ]
    },
    {
      "cell_type": "code",
      "metadata": {
        "id": "F67UbhEzXFbO"
      },
      "source": [
        "import keras\n",
        "METRICS = [\n",
        "      keras.metrics.BinaryAccuracy(name='accuracy'),\n",
        "      keras.metrics.Precision(name='precision'),\n",
        "      keras.metrics.Recall(name='recall'),\n",
        "      \n",
        "]\n"
      ],
      "execution_count": null,
      "outputs": []
    },
    {
      "cell_type": "markdown",
      "metadata": {
        "id": "EE1FiwO4oxji"
      },
      "source": [
        "Compiling and running the model"
      ]
    },
    {
      "cell_type": "code",
      "metadata": {
        "id": "GRLcTVwAQ8T6"
      },
      "source": [
        "model3.compile(optimizer='Adam', \n",
        "              loss='binary_crossentropy', \n",
        "              metrics=METRICS)"
      ],
      "execution_count": null,
      "outputs": []
    },
    {
      "cell_type": "code",
      "metadata": {
        "id": "kHZ2yn986Hu9"
      },
      "source": [
        "from keras import callbacks\n",
        "# simple early stopping\n",
        "es = callbacks.EarlyStopping(monitor='accuracy', mode='max', verbose=1)"
      ],
      "execution_count": null,
      "outputs": []
    },
    {
      "cell_type": "code",
      "metadata": {
        "id": "Ey5JSnn_JkOr"
      },
      "source": [
        "checkpoint = ModelCheckpoint('model-{epoch:03d}.model',monitor='accuracy',verbose=0,save_best_only=True,mode='max')"
      ],
      "execution_count": null,
      "outputs": []
    },
    {
      "cell_type": "code",
      "metadata": {
        "colab": {
          "base_uri": "https://localhost:8080/"
        },
        "id": "1lKp5VmtRRCQ",
        "outputId": "46660905-7482-42d9-8820-b2a125c7ac14"
      },
      "source": [
        "history = model3.fit(train_x, epochs=20, shuffle=True,  class_weight= class_weights,callbacks=[checkpoint])"
      ],
      "execution_count": null,
      "outputs": [
        {
          "output_type": "stream",
          "text": [
            "Epoch 1/20\n",
            "9/9 [==============================] - ETA: 0s - loss: 0.6908 - accuracy: 0.5678 - precision: 0.5940 - recall: 0.5524INFO:tensorflow:Assets written to: model-001.model/assets\n",
            "9/9 [==============================] - 17s 2s/step - loss: 0.6908 - accuracy: 0.5678 - precision: 0.5940 - recall: 0.5524\n",
            "Epoch 2/20\n",
            "9/9 [==============================] - ETA: 0s - loss: 0.5160 - accuracy: 0.7839 - precision: 0.7877 - recall: 0.8042INFO:tensorflow:Assets written to: model-002.model/assets\n",
            "9/9 [==============================] - 17s 2s/step - loss: 0.5160 - accuracy: 0.7839 - precision: 0.7877 - recall: 0.8042\n",
            "Epoch 3/20\n",
            "9/9 [==============================] - ETA: 0s - loss: 0.4286 - accuracy: 0.8059 - precision: 0.8000 - recall: 0.8392INFO:tensorflow:Assets written to: model-003.model/assets\n",
            "9/9 [==============================] - 16s 2s/step - loss: 0.4286 - accuracy: 0.8059 - precision: 0.8000 - recall: 0.8392\n",
            "Epoch 4/20\n",
            "9/9 [==============================] - 14s 2s/step - loss: 0.4149 - accuracy: 0.8059 - precision: 0.7848 - recall: 0.8671\n",
            "Epoch 5/20\n",
            "9/9 [==============================] - ETA: 0s - loss: 0.3548 - accuracy: 0.8462 - precision: 0.8389 - recall: 0.8741INFO:tensorflow:Assets written to: model-005.model/assets\n",
            "9/9 [==============================] - 17s 2s/step - loss: 0.3548 - accuracy: 0.8462 - precision: 0.8389 - recall: 0.8741\n",
            "Epoch 6/20\n",
            "9/9 [==============================] - ETA: 0s - loss: 0.3140 - accuracy: 0.8718 - precision: 0.8857 - recall: 0.8671INFO:tensorflow:Assets written to: model-006.model/assets\n",
            "9/9 [==============================] - 17s 2s/step - loss: 0.3140 - accuracy: 0.8718 - precision: 0.8857 - recall: 0.8671\n",
            "Epoch 7/20\n",
            "9/9 [==============================] - ETA: 0s - loss: 0.3054 - accuracy: 0.8901 - precision: 0.8951 - recall: 0.8951INFO:tensorflow:Assets written to: model-007.model/assets\n",
            "9/9 [==============================] - 16s 2s/step - loss: 0.3054 - accuracy: 0.8901 - precision: 0.8951 - recall: 0.8951\n",
            "Epoch 8/20\n",
            "9/9 [==============================] - ETA: 0s - loss: 0.3173 - accuracy: 0.8938 - precision: 0.8750 - recall: 0.9301INFO:tensorflow:Assets written to: model-008.model/assets\n",
            "9/9 [==============================] - 16s 2s/step - loss: 0.3173 - accuracy: 0.8938 - precision: 0.8750 - recall: 0.9301\n",
            "Epoch 9/20\n",
            "9/9 [==============================] - 14s 2s/step - loss: 0.3179 - accuracy: 0.8571 - precision: 0.8514 - recall: 0.8811\n",
            "Epoch 10/20\n",
            "9/9 [==============================] - 14s 2s/step - loss: 0.2929 - accuracy: 0.8645 - precision: 0.8630 - recall: 0.8811\n",
            "Epoch 11/20\n",
            "9/9 [==============================] - ETA: 0s - loss: 0.2874 - accuracy: 0.9048 - precision: 0.9034 - recall: 0.9161INFO:tensorflow:Assets written to: model-011.model/assets\n",
            "9/9 [==============================] - 17s 2s/step - loss: 0.2874 - accuracy: 0.9048 - precision: 0.9034 - recall: 0.9161\n",
            "Epoch 12/20\n",
            "9/9 [==============================] - 14s 2s/step - loss: 0.3372 - accuracy: 0.8498 - precision: 0.8400 - recall: 0.8811\n",
            "Epoch 13/20\n",
            "9/9 [==============================] - 14s 2s/step - loss: 0.3567 - accuracy: 0.8571 - precision: 0.9194 - recall: 0.7972\n",
            "Epoch 14/20\n",
            "9/9 [==============================] - 14s 2s/step - loss: 0.3069 - accuracy: 0.8718 - precision: 0.8600 - recall: 0.9021\n",
            "Epoch 15/20\n",
            "9/9 [==============================] - 14s 2s/step - loss: 0.2625 - accuracy: 0.8938 - precision: 0.8701 - recall: 0.9371\n",
            "Epoch 16/20\n",
            "9/9 [==============================] - 14s 2s/step - loss: 0.2657 - accuracy: 0.8974 - precision: 0.9021 - recall: 0.9021\n",
            "Epoch 17/20\n",
            "9/9 [==============================] - 15s 2s/step - loss: 0.3142 - accuracy: 0.8755 - precision: 0.9037 - recall: 0.8531\n",
            "Epoch 18/20\n",
            "9/9 [==============================] - 14s 2s/step - loss: 0.2432 - accuracy: 0.8974 - precision: 0.8808 - recall: 0.9301\n",
            "Epoch 19/20\n",
            "9/9 [==============================] - 14s 2s/step - loss: 0.2760 - accuracy: 0.8901 - precision: 0.9007 - recall: 0.8881\n",
            "Epoch 20/20\n",
            "9/9 [==============================] - 14s 2s/step - loss: 0.2895 - accuracy: 0.8828 - precision: 0.9051 - recall: 0.8671\n"
          ],
          "name": "stdout"
        }
      ]
    },
    {
      "cell_type": "markdown",
      "metadata": {
        "id": "Wy4TffMno2d2"
      },
      "source": [
        "Evaluating the model on test data"
      ]
    },
    {
      "cell_type": "code",
      "metadata": {
        "id": "y7wGhjfxvvaL",
        "colab": {
          "base_uri": "https://localhost:8080/"
        },
        "outputId": "10dc20e7-63fe-403f-d19c-2d016ca1c3d6"
      },
      "source": [
        "model3.evaluate(test_x)"
      ],
      "execution_count": null,
      "outputs": [
        {
          "output_type": "stream",
          "text": [
            "3/3 [==============================] - 1s 196ms/step - loss: 0.3217 - accuracy: 0.9118 - precision: 0.9412 - recall: 0.8889\n"
          ],
          "name": "stdout"
        },
        {
          "output_type": "execute_result",
          "data": {
            "text/plain": [
              "[0.3217039704322815,\n",
              " 0.9117646813392639,\n",
              " 0.9411764740943909,\n",
              " 0.8888888955116272]"
            ]
          },
          "metadata": {
            "tags": []
          },
          "execution_count": 31
        }
      ]
    },
    {
      "cell_type": "markdown",
      "metadata": {
        "id": "IwmtxppZo5lT"
      },
      "source": [
        "Saving the model to drive"
      ]
    },
    {
      "cell_type": "code",
      "metadata": {
        "id": "I2C3XciTKFAd",
        "colab": {
          "base_uri": "https://localhost:8080/"
        },
        "outputId": "debadea4-c9d0-4725-c7fc-52d3b9d8907a"
      },
      "source": [
        "model3.save('/content/drive/My Drive/DLProject/mymod/source_code12/saved_model_face')"
      ],
      "execution_count": null,
      "outputs": [
        {
          "output_type": "stream",
          "text": [
            "INFO:tensorflow:Assets written to: /content/drive/My Drive/DLProject/mymod/source_code12/saved_model_face/assets\n"
          ],
          "name": "stdout"
        }
      ]
    },
    {
      "cell_type": "code",
      "metadata": {
        "id": "_06R60FXKRCJ"
      },
      "source": [
        "model_test = tf.keras.models.load_model('/content/drive/My Drive/DLProject/mymod/source_code12/saved_model_face')"
      ],
      "execution_count": null,
      "outputs": []
    },
    {
      "cell_type": "code",
      "metadata": {
        "id": "Eyh_yhORKRFi",
        "colab": {
          "base_uri": "https://localhost:8080/"
        },
        "outputId": "2c7281c8-1a43-4c44-db55-0c72db467e64"
      },
      "source": [
        "model_test.evaluate(test_x)"
      ],
      "execution_count": null,
      "outputs": [
        {
          "output_type": "stream",
          "text": [
            "3/3 [==============================] - 1s 197ms/step - loss: 0.3217 - accuracy: 0.9118 - precision: 0.9412 - recall: 0.8889\n"
          ],
          "name": "stdout"
        },
        {
          "output_type": "execute_result",
          "data": {
            "text/plain": [
              "[0.3217039406299591,\n",
              " 0.9117646813392639,\n",
              " 0.9411764740943909,\n",
              " 0.8888888955116272]"
            ]
          },
          "metadata": {
            "tags": []
          },
          "execution_count": 34
        }
      ]
    },
    {
      "cell_type": "code",
      "metadata": {
        "id": "UFoM5lh8zEkb"
      },
      "source": [
        ""
      ],
      "execution_count": null,
      "outputs": []
    },
    {
      "cell_type": "markdown",
      "metadata": {
        "id": "ji1TONz8p9lV"
      },
      "source": [
        "Predicting classes and comparing with original classes for test data"
      ]
    },
    {
      "cell_type": "code",
      "metadata": {
        "id": "-ahDqBnI5Pv0"
      },
      "source": [
        "predictions = model_test.predict(test_x)"
      ],
      "execution_count": null,
      "outputs": []
    },
    {
      "cell_type": "code",
      "metadata": {
        "id": "58mJ9KOe6V9N"
      },
      "source": [
        "predicted_classes = [0 if x<=0.5 else 1 for x in predictions]"
      ],
      "execution_count": null,
      "outputs": []
    },
    {
      "cell_type": "code",
      "metadata": {
        "id": "BNx41Kp46h44"
      },
      "source": [
        "true_classes = test_x.classes"
      ],
      "execution_count": null,
      "outputs": []
    },
    {
      "cell_type": "markdown",
      "metadata": {
        "id": "yKWHTwP5cxWt"
      },
      "source": [
        "Classification Report"
      ]
    },
    {
      "cell_type": "code",
      "metadata": {
        "colab": {
          "base_uri": "https://localhost:8080/"
        },
        "id": "Bt6bY-Uy6h8N",
        "outputId": "ed8001d5-fc5e-46f3-c22a-0825d2d51992"
      },
      "source": [
        "import sklearn\r\n",
        "\r\n",
        "print(sklearn.metrics.classification_report(true_classes, predicted_classes))"
      ],
      "execution_count": null,
      "outputs": [
        {
          "output_type": "stream",
          "text": [
            "              precision    recall  f1-score   support\n",
            "\n",
            "           0       0.88      0.94      0.91        32\n",
            "           1       0.94      0.89      0.91        36\n",
            "\n",
            "    accuracy                           0.91        68\n",
            "   macro avg       0.91      0.91      0.91        68\n",
            "weighted avg       0.91      0.91      0.91        68\n",
            "\n"
          ],
          "name": "stdout"
        }
      ]
    },
    {
      "cell_type": "markdown",
      "metadata": {
        "id": "LcrchRHTc0ox"
      },
      "source": [
        "Confusion Matrix"
      ]
    },
    {
      "cell_type": "code",
      "metadata": {
        "id": "AV-3rr2k6v11"
      },
      "source": [
        "cf = sklearn.metrics.confusion_matrix(true_classes, predicted_classes)"
      ],
      "execution_count": null,
      "outputs": []
    },
    {
      "cell_type": "code",
      "metadata": {
        "colab": {
          "base_uri": "https://localhost:8080/"
        },
        "id": "n5M9Oyf7C9Qo",
        "outputId": "03dab0d2-6b43-4255-ac63-74630b1ee8ec"
      },
      "source": [
        "cf"
      ],
      "execution_count": null,
      "outputs": [
        {
          "output_type": "execute_result",
          "data": {
            "text/plain": [
              "array([[30,  2],\n",
              "       [ 4, 32]])"
            ]
          },
          "metadata": {
            "tags": []
          },
          "execution_count": 43
        }
      ]
    },
    {
      "cell_type": "code",
      "metadata": {
        "colab": {
          "base_uri": "https://localhost:8080/",
          "height": 293
        },
        "id": "YUISy76bF9Zw",
        "outputId": "2f6c4f19-7f69-4de4-9e68-0d9a0646a37b"
      },
      "source": [
        "import seaborn as sn\r\n",
        "import pandas as pd\r\n",
        "import matplotlib.pyplot as plt\r\n",
        "\r\n",
        "array = cf\r\n",
        "\r\n",
        "df_cm = pd.DataFrame(array,index = [i for i in[\"Dams\",\"NoDams\"]], columns = [i for i in[\"Dams\",\"NoDams\"]])\r\n",
        "# plt.figure(figsize=(10,7))\r\n",
        "sn.set(font_scale=1.4) # for label size\r\n",
        "sn.heatmap(df_cm, annot=True, annot_kws={\"size\": 16}) # font size\r\n",
        "plt.title(\"Confusion Matrix\")\r\n",
        "plt.show()"
      ],
      "execution_count": null,
      "outputs": [
        {
          "output_type": "display_data",
          "data": {
            "image/png": "[encoded data removed]",
            "text/plain": [
              "<Figure size 432x288 with 2 Axes>"
            ]
          },
          "metadata": {
            "tags": []
          }
        }
      ]
    },
    {
      "cell_type": "markdown",
      "metadata": {
        "id": "upO8u7iOuaPk"
      },
      "source": [
        "This is the final model where we have used 7 Convolution layers and 4 fully connected layers with batch size 32. We ran the model for 20 epochs, used accuracy, precision and recall from keras as metrics. We have used Adam optimizer and binary cross entropy loss. For this model we achieved 88% training and 91% test accuracies."
      ]
    }
  ]
}
